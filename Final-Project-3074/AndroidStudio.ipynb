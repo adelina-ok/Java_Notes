{
  "nbformat": 4,
  "nbformat_minor": 0,
  "metadata": {
    "colab": {
      "name": "AndroidStudio.ipynb",
      "private_outputs": true,
      "provenance": [],
      "collapsed_sections": [],
      "authorship_tag": "ABX9TyNAAX/dQoQJ7y4gdY34OIWr",
      "include_colab_link": true
    },
    "kernelspec": {
      "name": "python3",
      "display_name": "Python 3"
    }
  },
  "cells": [
    {
      "cell_type": "markdown",
      "metadata": {
        "id": "view-in-github",
        "colab_type": "text"
      },
      "source": [
        "<a href=\"https://colab.research.google.com/github/nic-instruction/IT-211/blob/main/Final-Project-3074/AndroidStudio.ipynb\" target=\"_parent\"><img src=\"https://colab.research.google.com/assets/colab-badge.svg\" alt=\"Open In Colab\"/></a>"
      ]
    },
    {
      "cell_type": "markdown",
      "metadata": {
        "id": "LLIETuXCy1Dp"
      },
      "source": [
        "Instructions for section 3074 android installation!  3079, you opted to do a standard Java program, so you don't need to worry about this."
      ]
    },
    {
      "cell_type": "markdown",
      "metadata": {
        "id": "50wamH80sUkz"
      },
      "source": [
        "Go to https://developer.android.com/studio and download android studio.\n",
        "\n",
        "* The tottal download is 5GB, 2 for the android studio binaries, and then 3 for additional development packages during the installation phase.\n",
        "* The initial download will take about 2 GB of space.  \n",
        "* It will ask if you want to import settings and unless you have previous settings, you don't need to.\n",
        "* It will ask if you want a dark theme or a light theme, their dark theme is called Dracula :) which is what I'm using, but do what's best for your eyes.\n",
        "* It will then ask you to confirm additional download components, which total ~3 GB\n",
        "* Make a new project, I've called mine \"playground\" and just scroll through the various folders of code.  When you do this, it may prompt you to increase the heap size or perform other tuning to make the application run better.  It's probably a good idea to do so, unless it would interfere with other applications running on your machine.\n",
        "* That's it!  You're done.  We'll do a Hello World app in class, but there are tons of cool app tutorials online.\n",
        "\n",
        "# Firebase\n",
        "\n",
        "* https://firebase.google.com/docs/android/setup\n",
        "* When and if we reach the 'multiplayer game' threshold, we'll want to install firebase as well.  Basically, this is a nosql DB which can store our game state, allowing players in the same game to write to it (they don't know this is what they're doing, the app does this for them) saving and updating the game state.  This is a SUPER SIMPLE way to save a very simple game state, and hopefully will work for our app, we'll see.\n",
        "* Here's a good overview of the strategy: https://levelup.gitconnected.com/build-a-serverless-multiplayer-game-with-firebase-bf50454a1b69\n",
        "\n",
        "\n"
      ]
    }
  ]
}