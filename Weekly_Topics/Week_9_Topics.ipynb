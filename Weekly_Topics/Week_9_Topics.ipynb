{
  "nbformat": 4,
  "nbformat_minor": 0,
  "metadata": {
    "colab": {
      "name": "Week 9 Topics.ipynb",
      "private_outputs": true,
      "provenance": [],
      "collapsed_sections": [],
      "authorship_tag": "ABX9TyMWgiAQPYGGn3Kgiv6Zg4/5",
      "include_colab_link": true
    },
    "kernelspec": {
      "name": "python3",
      "display_name": "Python 3"
    }
  },
  "cells": [
    {
      "cell_type": "markdown",
      "metadata": {
        "id": "view-in-github",
        "colab_type": "text"
      },
      "source": [
        "<a href=\"https://colab.research.google.com/github/nic-instruction/IT-211/blob/main/Weekly_Topics/Week_9_Topics.ipynb\" target=\"_parent\"><img src=\"https://colab.research.google.com/assets/colab-badge.svg\" alt=\"Open In Colab\"/></a>"
      ]
    },
    {
      "cell_type": "markdown",
      "metadata": {
        "id": "smz5R7eSHb_u"
      },
      "source": [
        "# New\n",
        "* Inheritance: Derived classes\n",
        "* Inheritance: Access by members of derived classes\n",
        "\n",
        "# Review\n",
        "\n",
        "* Constructor Overloading\n",
        "* Objects and References\n",
        "* The \"this\" keyword and implicit parameter\n",
        "* Primitive and reference types\n",
        "* Wrapper classes in the Java library such as Integer and Double\n"
      ]
    },
    {
      "cell_type": "markdown",
      "metadata": {
        "id": "DCmhuWGEpWEQ"
      },
      "source": [
        "# Reference Code\n",
        "To understand chapter 14, you'll need to refer to the code from the previous two chapters.  I wrote many of the required methods for you, but some are left undone.  If we need any, we'll write them in class, or I'll update the linked notebook.\n",
        "\n",
        "Familiarize yourself with this code and ask questions about it.  If you want more context for it, just read chapters 12 and 13, it will take you about 40 minutes to read both of them.\n",
        "\n",
        "https://github.com/nic-instruction/IT-211/blob/main/Card_and_Deck_Classes.ipynb\n",
        "\n",
        "Chapter 14's code can be found on one of the author's GitHub repos: https://github.com/ChrisMayfield/ThinkJavaCode2/tree/master/ch14.\n"
      ]
    },
    {
      "cell_type": "markdown",
      "metadata": {
        "id": "TS-5fNcHo6Rk"
      },
      "source": [
        "# Inheritance: Derived Classes\n",
        "\n",
        "In Java a 'child' class is called a derived class.  In the Chapter 14 example, we have a several derived classes, including `Deck` and `Hand`:\n",
        "\n",
        "```java\n",
        "\n",
        "public class Deck extends CardCollection {\n",
        "\n",
        "    /**\n",
        "     * Constructs a standard deck of 52 cards.\n",
        "     */\n",
        "    public Deck(String label) {\n",
        "        super(label);\n",
        "        for (int suit = 0; suit <= 3; suit++) {\n",
        "            for (int rank = 1; rank <= 13; rank++) {\n",
        "                addCard(new Card(rank, suit));\n",
        "            }\n",
        "        }\n",
        "    }\n",
        "\n",
        "}\n",
        "```\n",
        "\n",
        "```java\n",
        "public class Hand extends CardCollection {\n",
        "\n",
        "    /**\n",
        "     * Constructs an empty hand.\n",
        "     */\n",
        "    public Hand(String label) {\n",
        "        super(label);\n",
        "    }\n",
        "\n",
        "    /**\n",
        "     * Prints the label and cards.\n",
        "     */\n",
        "    public void display() {\n",
        "        System.out.println(getLabel() + \": \");\n",
        "        for (int i = 0; i < size(); i++) {\n",
        "            System.out.println(getCard(i));\n",
        "        }\n",
        "        System.out.println();\n",
        "    }\n",
        "\n",
        "}\n",
        "\n",
        "```\n",
        "Both `Deck` and `Hand` declare themselves as derived classes, for example: `public class Hand extends CardCollection`.\n",
        "\n",
        "They inherit everything  from the `CardCollection` class, except the constructor, which they have to build themselves... kind of.  In this case, both use the keyword `super` to invoke the superclass constructor.\n",
        "\n",
        "Even though they inherit the super class's methods and attributes, they can replace them with their own.  They can also write new ones.  Inheritance is a way to save code and allow changes in one place (the super class or parent class) to propagate, instead of having to update many classes at once.\n",
        "\n",
        "Polymorphism: https://www.w3schools.com/java/java_polymorphism.asp\n",
        "\n",
        "Inner class: https://www.w3schools.com/java/java_inner_classes.asp\n",
        "\n",
        "\n"
      ]
    },
    {
      "cell_type": "code",
      "metadata": {
        "id": "8xahVDaFhhx9"
      },
      "source": [
        "%%writefile Example.java\n",
        "public class Example{\n",
        "    public static void main(String [] args) {\n",
        "        Example exampleObject = new Example();\n",
        "\n",
        "    }\n",
        "\n",
        "    public String firstMethod() {\n",
        "        return \"I am the first method in the Example class.\";\n",
        "    }\n",
        "\n",
        "    public String secondMethod() {\n",
        "        return \"I am the second method in the Example class.\";\n",
        "    }\n",
        "\n",
        "}\n",
        "\n",
        "\n"
      ],
      "execution_count": null,
      "outputs": []
    },
    {
      "cell_type": "code",
      "metadata": {
        "id": "MhzAy4JgJAVm"
      },
      "source": [
        "%%writefile ExampleChild.java\n",
        "public class ExampleChild extends Example {\n",
        "    public static void main(String [] args) {\n",
        "        ExampleChild exampleChildObject = new ExampleChild();\n",
        "        System.out.println(exampleChildObject.firstMethod()); \n",
        "    }\n",
        "}"
      ],
      "execution_count": null,
      "outputs": []
    },
    {
      "cell_type": "code",
      "metadata": {
        "id": "mk7-sS4NJsHj"
      },
      "source": [
        "!javac Example.java ExampleChild.java \n",
        "!java ExampleChild"
      ],
      "execution_count": null,
      "outputs": []
    },
    {
      "cell_type": "markdown",
      "metadata": {
        "id": "bmKfkbIFp7A4"
      },
      "source": [
        "Inheritance in Java also means that the parent class inherits from Java's Object class in Java's `java.lang` package and passes that on to the child class.  \n",
        "\n",
        "Very importantly: if a parent class declares an attribute private, then while it is still actually in the subclass, it is not accessible to the subclass unless a method is provided for interacting with it.  We shorthand this by saying that private attributes are not inherited because they are inaccessible, even though they are still present in the subclass object.\n",
        "\n",
        "* Private allows only the class containing the member to access that member.\n",
        "* Protected allows the member to be accessed within the class and all of its subclasses.\n",
        "* Public allows anyone to access the member.\n",
        "* A nested class has access to all private members of its enclosing classes both fields and methods.\n",
        "\n",
        "https://docs.oracle.com/javase/tutorial/java/IandI/subclasses.html"
      ]
    },
    {
      "cell_type": "markdown",
      "metadata": {
        "id": "rCOO5b3QpKfz"
      },
      "source": [
        "# Inheritance: Access by Members of Derived Classes\n",
        "\n",
        "Inheritance examples and how access is negotiated with inheritance: https://www.w3schools.com/java/java_inheritance.asp"
      ]
    },
    {
      "cell_type": "markdown",
      "metadata": {
        "id": "6D-g-02WIb8b"
      },
      "source": [
        "# Constructor Overloading\n",
        "You can think of this the same way you think of method overloading (constructors are special methods, afterall).  This just means writing multiple constructors for the same class that take different parameters, so that the object is initialized differently, depending on what is passed to it.\n",
        "\n",
        "For example, look at the two Deck constructors in our code from Chapter 13:"
      ]
    },
    {
      "cell_type": "code",
      "metadata": {
        "id": "iHgzJMakJmBH"
      },
      "source": [
        "%%writefile Deck.java\n",
        "public class Deck {\n",
        "    private Card[] cards;\n",
        "\n",
        "    // First Constructor\n",
        "    // Creates an empty array Card array that can hold n values.\n",
        "    public Deck(int n) {\n",
        "        this.cards = new Card[n];\n",
        "    }\n",
        "\n",
        "    // Second Constructor\n",
        "    // Creates a standard Card array that holds 52 values and populates them with the cards in a standard deck.\n",
        "    public Deck() {\n",
        "        this.cards = new Card[52];\n",
        "        int index = 0;\n",
        "        for (int suit = 0; suit <= 3; suit++) {\n",
        "            for (int rank = 1; rank <= 13; rank++) {\n",
        "                this.cards[index] = new Card(rank, suit);\n",
        "                index++;\n",
        "            }\n",
        "        }\n",
        "    }\n",
        "}"
      ],
      "execution_count": null,
      "outputs": []
    },
    {
      "cell_type": "markdown",
      "metadata": {
        "id": "LmnRJuYYJ_8M"
      },
      "source": [
        "# Objects and References\n",
        "All object variables store references to the object in memory, this includes special object types like `String`, which many people assume are primitives, but are not.  That means if you print the object, the default `.toString()` method for the object will return the class name and the object's location in memory, not it's value.\n",
        "\n",
        "The `String` class has a custom `.toString()` method, which prints the value of the string object in memory, which is why it prints like a primitive.  \n",
        "\n",
        "# Primitive and reference types\n",
        "Conversely, primitive datatypes (covered week 2) including `char`, `int`, and `double`, will print their value if you print them.  That is because the variable that holds them points directly to their value in memory.  "
      ]
    },
    {
      "cell_type": "markdown",
      "metadata": {
        "id": "yL0zha7kL8ty"
      },
      "source": [
        "# The 'this' Keyword\n",
        "`this` is a very useful keyword that refers to the current object, meaning the object that is calling the method, or the one being constructed.  It is a workaround for not knowing the object's name.\n",
        "\n",
        "In another card example, see the code below for an illustration of the use of `this` in nonstatic methods.  Reminder that nonstatic methods are called via `objectName.methodName()`, which is important here, because it knows which object of the class it is referring to:\n",
        "\n",
        "```java\n",
        "    public Card(int rank, int suit) {\n",
        "        this.rank = rank;\n",
        "        this.suit = suit;\n",
        "    }\n",
        "\n",
        "    public String toString() {\n",
        "        return RANKS[this.rank] + \" of \" + SUITS[this.suit];\n",
        "    }\n",
        "\n",
        "     public boolean equals(Card that) {\n",
        "        return this.rank == that.rank\n",
        "        && this.suit == that.suit;\n",
        "    }\n",
        "\n",
        "    public int getRank() {\n",
        "        return this.rank;\n",
        "    }\n",
        "\n",
        "    public int getSuit() {\n",
        "        return this.suit;\n",
        "    }\n",
        "\n",
        "```\n",
        "\n",
        "Note that the word 'that' is not a reserved word and is just a variable like any other.  The book uses it to illustrate a point, but the example is a little unclear.  So, you can use 'that' as an internal variable in a method, but it is not a reserved word and has no meaning, outside of the meaning you give it.  \n",
        "\n",
        "For a list of reserved words in Java (words that do a thing or mean a thing), check out the Wikipedia page (Wikipedia tends to be a decent resource for technical questions, because the open source community is rather religious about keeping it up to date): https://en.wikipedia.org/wiki/List_of_Java_keywords#List or you can simply google \"Java reserved words\".\n",
        "\n",
        "# Implicit Parameter\n",
        "When you invoke a nonstatic method and use `this` it is called an 'implicit parameter', because even though it is not being passed as an argument, it is still being acted upon by the method.  A very good example of this is the `mergeSort` method in the `Deck` class I implemented for you.  It is a recursive method that takes no arguments.  It is able to do this, because it recurses on the `this.cards` array:\n",
        "\n",
        "``` java\n",
        "    public Deck mergeSort() {\n",
        "        if (this.cards.length <= 1) {\n",
        "            return this;\n",
        "        } else {\n",
        "        // otherwise, divide the deck into two subdecks\n",
        "            int halfDeck = ((this.cards.length -1) / 2); \n",
        "\n",
        "            Deck sub1 = this.subdeck(0, halfDeck);\n",
        "            Deck sub2 = this.subdeck((halfDeck + 1), (this.cards.length -1));\n",
        "\n",
        "            // sort the subdecks using mergeSort\n",
        "            sub1 = sub1.mergeSort();\n",
        "            sub2 = sub2.mergeSort();\n",
        "\n",
        "            // merge the subdecks\n",
        "            Deck sortedDeck = merge(sub1, sub2);\n",
        "            return sortedDeck;\n",
        "        }\n",
        "    }\n",
        "\n",
        "  \n",
        "  /*  mergeSort calls subdeck and merge,  so I've included them below.\n",
        "    There are probobly more elegant implementations of the merge and\n",
        "    mergeSort methods floating around, but these are the ones I wrote\n",
        "    to the book's specifications.\n",
        "  */\n",
        "\n",
        "        private static Deck merge(Deck d1, Deck d2) {\n",
        "        Deck d3 = new Deck((d1.cards.length + d2.cards.length));\n",
        "        int i = 0;\n",
        "        int j = 0;\n",
        "\n",
        "        for (int k = 0; k < d3.cards.length ; k++) {\n",
        "            if (i >= (d1.cards.length )) {  \n",
        "                d3.cards[k] = d2.cards[j]; \n",
        "                j++;\n",
        "            } else if (j >= (d2.cards.length )) {  \n",
        "                d3.cards[k] = d1.cards[i];\n",
        "                i++;\n",
        "                // if d1 is bigger than d2\n",
        "            } else if (d1.cards[i].compareTo(d2.cards[j]) == 1) {  \n",
        "                    // System.out.println(\"do I happen?\");\n",
        "                    d3.cards[k] = d2.cards[j];\n",
        "                    j++;\n",
        "                // else if d2 is bigger than d1\n",
        "            } else if (d2.cards[j].compareTo(d1.cards[i]) == 1) {\n",
        "                    d3.cards[k] = d1.cards[i];\n",
        "                    i++;\n",
        "            } else {\n",
        "                    System.out.println(\"You broke me, you feind!\");\n",
        "                }\n",
        "            }\n",
        "\n",
        "        return d3;\n",
        "    }\n",
        "\n",
        "        public Deck subdeck(int low, int high) {\n",
        "            Deck sub = new Deck(high - low + 1);\n",
        "            for (int i = 0; i < sub.cards.length; i++) {\n",
        "                sub.cards[i] = this.cards[low + i];\n",
        "            }\n",
        "            return sub;\n",
        "        }\n",
        "\n",
        "```"
      ]
    },
    {
      "cell_type": "markdown",
      "metadata": {
        "id": "GQ96a9OMcFyC"
      },
      "source": [
        "# Wrapper Classes\n",
        "Primitive datatypes all have wrapper classes that contain methods for those datatypes.  Integer, Char and Double are among them.  Here's a pretty good list with some examples: https://www.w3schools.com/java/java_wrapper_classes.asp\n",
        "\n",
        "Note that some objects, like ArrayLists will require you to use wrapper classes instead of primitives, and that wrapper classes cannot be used with operators in the same way that primitives can be.  That said, java goes through a process called boxing and unboxing (implemented in Java 5) that will automatically convert between primitives and wrapper classes in a number of cases, so it may appear that they are interchangeable: https://howtodoinjava.com/java/basics/java-wrapper-classes/\n",
        "\n"
      ]
    }
  ]
}